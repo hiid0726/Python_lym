{
  "nbformat": 4,
  "nbformat_minor": 0,
  "metadata": {
    "colab": {
      "provenance": [],
      "authorship_tag": "ABX9TyPO4N07htxXmnlht8Yse0NI",
      "include_colab_link": true
    },
    "kernelspec": {
      "name": "python3",
      "display_name": "Python 3"
    },
    "language_info": {
      "name": "python"
    }
  },
  "cells": [
    {
      "cell_type": "markdown",
      "metadata": {
        "id": "view-in-github",
        "colab_type": "text"
      },
      "source": [
        "<a href=\"https://colab.research.google.com/github/hiid0726/Python_lym/blob/main/submission/hiid0726/ch_03_03%EB%B3%B5%EC%8A%B5.ipynb\" target=\"_parent\"><img src=\"https://colab.research.google.com/assets/colab-badge.svg\" alt=\"Open In Colab\"/></a>"
      ]
    },
    {
      "cell_type": "markdown",
      "source": [
        "# 예외처리"
      ],
      "metadata": {
        "id": "Ckv5B0CR2hN4"
      }
    },
    {
      "cell_type": "code",
      "execution_count": 4,
      "metadata": {
        "id": "RCd4kysn2XvN"
      },
      "outputs": [],
      "source": [
        "class Hamburger:\n",
        "  def __init__(self, meat, *args):\n",
        "    self.meat = meat; # 가지고 있는 고기의 양\n",
        "    self.menu = args; # 메뉴들\n",
        "\n",
        "    if self.meat <= 0 :\n",
        "      print(\"고기 품절\");\n",
        "    \n",
        "    for m in self.menu:\n",
        "      if m[-2:] != \"버거\":\n",
        "        print(\"메뉴의 이름은 버거로 끝나야 합니다.\")\n",
        "\n",
        "    \n"
      ]
    },
    {
      "cell_type": "code",
      "source": [
        "store = Hamburger(100, \"불고기버거\", \"상하이 버거\", \"크리스피 버거\")\n",
        "store"
      ],
      "metadata": {
        "colab": {
          "base_uri": "https://localhost:8080/"
        },
        "id": "r7mwkKbQ3OzG",
        "outputId": "e5290d21-50a3-4bd8-cf65-cfe68f7ac0e6"
      },
      "execution_count": 5,
      "outputs": [
        {
          "output_type": "execute_result",
          "data": {
            "text/plain": [
              "<__main__.Hamburger at 0x7fc287fbdfd0>"
            ]
          },
          "metadata": {},
          "execution_count": 5
        }
      ]
    },
    {
      "cell_type": "code",
      "source": [
        "try : \n",
        "  store=Hamburger();\n",
        "except :\n",
        "  print(\"알수 없는 오류입니다.\")\n"
      ],
      "metadata": {
        "colab": {
          "base_uri": "https://localhost:8080/"
        },
        "id": "I4wafm2V3mVw",
        "outputId": "026b205a-6bd7-4168-9678-25d0e2ecb251"
      },
      "execution_count": 6,
      "outputs": [
        {
          "output_type": "stream",
          "name": "stdout",
          "text": [
            "알수 없는 오류입니다.\n"
          ]
        }
      ]
    },
    {
      "cell_type": "code",
      "source": [
        "try : \n",
        "  store=Hamburger(100);\n",
        "except Exception as e : # 에러코드 변수로 받아오기.\n",
        "  print(f\"** {e}오류입니다.\")\n",
        "else:\n",
        "  print(\"정상적으로 가게가 생성 되었습니다.\");\n",
        "  print(f\"스토어의 고기 양 : {store.meat}\");\n",
        "  print(f\"스토어의 메뉴 종류 : {store.menu}\")\n",
        "finally : \n",
        "  print(\"가게 생성 완료\");"
      ],
      "metadata": {
        "colab": {
          "base_uri": "https://localhost:8080/"
        },
        "id": "mHQmZABZ4TGu",
        "outputId": "fb2aa9bf-41bd-4c83-ae25-739312f50768"
      },
      "execution_count": 10,
      "outputs": [
        {
          "output_type": "stream",
          "name": "stdout",
          "text": [
            "정상적으로 가게가 생성 되었습니다.\n",
            "스토어의 고기 양 : 100\n",
            "스토어의 메뉴 종류 : ()\n",
            "가게 생성 완료\n"
          ]
        }
      ]
    },
    {
      "cell_type": "code",
      "source": [
        "# 고기 오류 : 음수 입력시 \n",
        "# 고기 오류 : 정수가 아닌 실수 입력시\n",
        "# 고기 오류 : 문자열 입력시 (type으로 잡아주지만, 에러 메시지가 마음에 들지않음)\n",
        "# 메뉴 오류 : 메뉴가 아예 비어있을시\n",
        "# 메뉴 오류 : 메뉴에 버거가 포함되지 않음\n",
        "class MeatError(Exception):\n",
        "  def __init__(self, msg):\n",
        "    super().__init__(msg);\n",
        "\n",
        "class MenuError(Exception) : \n",
        "  def __init__(self, msg):\n",
        "    super().__init__(msg);\n",
        "\n",
        "\n",
        "\n",
        "class HamburgerStore:\n",
        "  meat_str_error_msg = '문자열을 입력했음';\n",
        "  meat_float_error_msg = '정수가 아닌 실수 입력했음';\n",
        "  meat_nagative_error_msg = '고기양 음수 입력했음';\n",
        "\n",
        "  def __init__(self, meat, *args):\n",
        "    self.meat = meat; # 가지고 있는 고기의 양\n",
        "    self.menu = args; # 메뉴들\n",
        "    self.handle_meat;\n",
        "    self.handle_menu;\n",
        "    \n",
        "  def handle_meat(self):\n",
        "    if type(self.meat) == str:\n",
        "      raise MeatError(HamburgerStore.meat_str_error_msg);\n",
        "    if type(self.meat) == float and self.meat is not int:\n",
        "      raise MeatError(HamburgerStore.meat_float_error_msg);\n",
        "    if self.meat <= 0 :\n",
        "      print(HamburgerStore.meat_nagative_error_msg);\n",
        "\n",
        "  def handle_menu(self): \n",
        "    for m in self.menu:\n",
        "      if not m : \n",
        "        raise MenuError(\"메뉴가 없습니다\");\n",
        "      if m[-2:] != \"버거\":\n",
        "        # print(\"메뉴의 이름은 버거로 끝나야 합니다.\")\n",
        "        raise MenuError(\"메뉴의 이름은 버거로 끝나야 합니다.\");\n",
        "\n",
        "\n",
        "\n",
        "try : \n",
        "  store=HamburgerStore(-1);\n",
        "except MeatError as e:\n",
        "  print(\"** 고기관련 오류입니다.\")\n",
        "  print(f\"에러메시지 = {e}\")\n",
        "except MenuError as e:\n",
        "  print(\"** 메뉴관련 오류입니다.\")\n",
        "  print(f\"에러메시지 = {e}\")\n",
        "except Exception as e : # 에러코드 변수로 받아오기.\n",
        "  print(f\"**오류입니다.\")\n",
        "  print(f\"에러메시지 = {e}\")\n",
        "else:\n",
        "  print(\"정상적으로 가게가 생성 되었습니다.\");\n",
        "  print(f\"스토어의 고기 양 : {store.meat}\");\n",
        "  print(f\"스토어의 메뉴 종류 : {store.menu}\")\n",
        "finally : \n",
        "  print(\"가게 생성 완료\");"
      ],
      "metadata": {
        "colab": {
          "base_uri": "https://localhost:8080/"
        },
        "id": "7Nc5CtIT5JG3",
        "outputId": "c956ed55-5326-4460-f2f0-b37f9c87e04e"
      },
      "execution_count": 17,
      "outputs": [
        {
          "output_type": "stream",
          "name": "stdout",
          "text": [
            "정상적으로 가게가 생성 되었습니다.\n",
            "스토어의 고기 양 : -1\n",
            "스토어의 메뉴 종류 : ()\n",
            "가게 생성 완료\n"
          ]
        }
      ]
    },
    {
      "cell_type": "code",
      "source": [
        "try:\n",
        "  try : \n",
        "    store=HamburgerStore(0);\n",
        "  except MeatError as e:\n",
        "    print(\"** 고기관련 오류입니다.\")\n",
        "    # print(f\"에러메시지 = {e}\")\n",
        "    raise e;\n",
        "  except MenuError as e:\n",
        "    print(\"** 메뉴관련 오류입니다.\")\n",
        "    # print(f\"에러메시지 = {e}\")\n",
        "    raise e;\n",
        "  except Exception as e : # 에러코드 변수로 받아오기.\n",
        "    print(f\"**오류입니다.\")\n",
        "    # print(f\"에러메시지 = {e}\")\n",
        "    raise e;\n",
        "except Exception as e : # 에러코드 변수로 받아오기.\n",
        "    print(f\"에러메시지 = {e}\")\n",
        "else:\n",
        "  print(\"정상적으로 가게가 생성 되었습니다.\");\n",
        "  print(f\"스토어의 고기 양 : {store.meat}\");\n",
        "  print(f\"스토어의 메뉴 종류 : {store.menu}\")\n",
        "finally : \n",
        "  print(\"가게 생성 완료\");"
      ],
      "metadata": {
        "colab": {
          "base_uri": "https://localhost:8080/"
        },
        "id": "dSwqRCKYAvbm",
        "outputId": "0d602169-e77b-4430-fc03-26893e2e8c36"
      },
      "execution_count": 20,
      "outputs": [
        {
          "output_type": "stream",
          "name": "stdout",
          "text": [
            "정상적으로 가게가 생성 되었습니다.\n",
            "스토어의 고기 양 : 0\n",
            "스토어의 메뉴 종류 : ()\n",
            "가게 생성 완료\n"
          ]
        }
      ]
    },
    {
      "cell_type": "code",
      "source": [
        "#### 강사님 코드\n",
        "# 고기 오류 : 음수 입력했을 때\n",
        "# 고기 오류 : 정수가 아닌 실수를 입력했을 때\n",
        "# 고기 오류 : 문자열 입력했을 때 (type으로 잡아주기는 하는데... 메시지가 마음에 안들어)\n",
        "# 메뉴 오류 : 메뉴가 아예 비어 있음\n",
        "# 메뉴 오류 : 메뉴에 '버거'가 포함되지 않음\n",
        "\n",
        "# 사용자 에러를 만들 때\n",
        "class MeatError(Exception): # class 오류명(Exception):\n",
        "    # pass\n",
        "    def __init__(self, msg) -> None:\n",
        "        super().__init__(msg)\n",
        "class MenuError(Exception):\n",
        "    pass\n",
        "\n",
        "class HamburgerStore:\n",
        "    meat_str_error_msg = \"문자열을 입력했습니다, 정수로 다시 입력해주세요\"\n",
        "    meat_float_error_msg = \"고기 주문량은 정수가 아닌 실수를 입력할 수 없습니다\"\n",
        "    meat_negative_error_msg = \"고기 주문량은 음수를 입력할 수 없습니다\"\n",
        "\n",
        "    def __init__(self, meat, *args):\n",
        "        self.meat = meat # 고기의 양\n",
        "        self.handle_meat() # 고기를 처리하는 메소드 (하위모듈화)\n",
        "        self.menu = args # 메뉴 가짓수\n",
        "        self.handle_menu() # 메뉴를 처리하는 메소드\n",
        "    \n",
        "    def handle_meat(self):\n",
        "        if type(self.meat) == str:\n",
        "            raise MeatError(HamburgerStore.meat_str_error_msg)\n",
        "        if type(self.meat) == float and (int(self.meat) != self.meat):\n",
        "            raise MeatError(HamburgerStore.meat_float_error_msg)\n",
        "        if self.meat < 0:\n",
        "            raise MeatError(HamburgerStore.meat_negative_error_msg)\n",
        "    \n",
        "    def handle_menu(self):\n",
        "        if not self.menu:\n",
        "            raise MenuError(\"메뉴 없이 가게를 열 수 없습니다\")\n",
        "        for m in self.menu:\n",
        "            if m[-2:] != \"버거\":\n",
        "                # print(\"메뉴의 이름은 버거로 끝나야합니다\")\n",
        "                raise MenuError(\"메뉴의 이름은 버거로 끝나야합니다\")\n",
        "\n",
        "try:\n",
        "    # store = HamburgerStore()\n",
        "    # store = HamburgerStore(\"\")\n",
        "    # store = HamburgerStore(-1)\n",
        "    # store = HamburgerStore(1.0)\n",
        "    # store = HamburgerStore(1.1)\n",
        "    # store = HamburgerStore(1)\n",
        "    # store = HamburgerStore(1, \"된장찌개\")\n",
        "    store = HamburgerStore(1, \"된장찌개버거\")\n",
        "except MeatError as e: # except 사용자에러 as e : 사용자에러를 변수 e로 불러오겠음\n",
        "    print(\"**고기 관련 오류입니다**\")\n",
        "    print(f\"에러 메시지 : {e}\")\n",
        "except MenuError as e: # except 사용자에러 as e : 사용자에러를 변수 e로 불러오겠음\n",
        "    print(\"**메뉴 관련 오류입니다**\")\n",
        "    print(f\"에러 메시지 : {e}\")\n",
        "except Exception as e: # except Exception as e : e라는 이름의 Exception 클래스로 에러를 해석해주겠다.\n",
        "    # e -> 변수로 메시지를 받을 수 있음\n",
        "    print(\"**알 수 없는 오류입니다**\")\n",
        "    print(f\"에러 메시지 : {e}\")\n",
        "else: # 에러가 없으면 실행될 코드\n",
        "    print(\"<정상적으로 가게가 생성 되었습니다>\")\n",
        "    print(f\"스토어의 고기 양 : {store.meat}\")\n",
        "    print(f\"스토어의 메뉴 목록 : {store.menu}\")\n",
        "finally: # 에러가 있던 없던 실행될 코드\n",
        "    print(\"**생성 과정 완료**\")"
      ],
      "metadata": {
        "id": "rBABXmEbC9d8"
      },
      "execution_count": null,
      "outputs": []
    },
    {
      "cell_type": "code",
      "source": [
        "#### 강사님 코드\n",
        "def make_store(meat, *args):\n",
        "    try:\n",
        "        # store = HamburgerStore(1, \"된장찌개\")\n",
        "        store = HamburgerStore(meat, *args)\n",
        "    except MeatError as e: # except 사용자에러 as e : 사용자에러를 변수 e로 불러오겠음\n",
        "        print(\"**고기 관련 오류입니다**\")\n",
        "        raise e\n",
        "    except MenuError as e: # except 사용자에러 as e : 사용자에러를 변수 e로 불러오겠음\n",
        "        print(\"**메뉴 관련 오류입니다**\")\n",
        "        raise e\n",
        "    except Exception as e: # except Exception as e : e라는 이름의 Exception 클래스로 에러를 해석해주겠다.\n",
        "        # e -> 변수로 메시지를 받을 수 있음\n",
        "        print(\"**알 수 없는 오류입니다**\")\n",
        "        raise e\n",
        "    return store"
      ],
      "metadata": {
        "id": "iLbs0dXEC_w3"
      },
      "execution_count": null,
      "outputs": []
    },
    {
      "cell_type": "code",
      "source": [
        "####강사님 코드\n",
        "try:\n",
        "    store = make_store(1, \"크록스버거\")\n",
        "except Exception as e:\n",
        "    print(f\"에러 메시지 : {e}\")\n",
        "    print(\"에러가 발생했네요, 조심해주세요!\")\n",
        "    print(\"본사에 보고하겠습니다...\")\n",
        "else: # 에러가 없으면 실행될 코드\n",
        "    print(\"<정상적으로 가게가 생성 되었습니다>\")\n",
        "    print(f\"스토어의 고기 양 : {store.meat}\")\n",
        "    print(f\"스토어의 메뉴 목록 : {store.menu}\")\n",
        "finally: # 에러가 있던 없던 실행될 코드\n",
        "    print(\"**생성 과정 완료**\")"
      ],
      "metadata": {
        "id": "c4eKD3rSDC8O"
      },
      "execution_count": null,
      "outputs": []
    }
  ]
}