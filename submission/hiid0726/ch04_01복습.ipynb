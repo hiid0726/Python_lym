{
  "nbformat": 4,
  "nbformat_minor": 0,
  "metadata": {
    "colab": {
      "provenance": [],
      "authorship_tag": "ABX9TyM7myr1h4RBdmANesTzf4UZ",
      "include_colab_link": true
    },
    "kernelspec": {
      "name": "python3",
      "display_name": "Python 3"
    },
    "language_info": {
      "name": "python"
    }
  },
  "cells": [
    {
      "cell_type": "markdown",
      "metadata": {
        "id": "view-in-github",
        "colab_type": "text"
      },
      "source": [
        "<a href=\"https://colab.research.google.com/github/hiid0726/Python_lym/blob/main/submission/hiid0726/ch04_01%EB%B3%B5%EC%8A%B5.ipynb\" target=\"_parent\"><img src=\"https://colab.research.google.com/assets/colab-badge.svg\" alt=\"Open In Colab\"/></a>"
      ]
    },
    {
      "cell_type": "code",
      "execution_count": null,
      "metadata": {
        "id": "709SpNP6D2dC"
      },
      "outputs": [],
      "source": [
        "#패키지나 모듈을 불러오는 키워드 import\n",
        "#패키지와 모듈 안에 있는 것을 부분적으로 불러오기 위해서는 from (패키지or모듈명) import 불러오려는 모듈, 함수, 변수 명...\n",
        "#불러올때 다른이름으로 지정해주고 싶으면 as사용 => import ... as ... / from ... import ... as ...\n",
        "#특정 모듈이나 패키지 안에 있는 모든 항목들을 불러올려면 from ... import *\n",
        "# 설치는 !pip install ... / 설치된것 검색은 !pip list"
      ]
    },
    {
      "cell_type": "code",
      "source": [
        "!pip install gTTS -q"
      ],
      "metadata": {
        "colab": {
          "base_uri": "https://localhost:8080/"
        },
        "id": "vVZs0WVYEqzz",
        "outputId": "c88c801c-e4a7-473b-bbd5-ce7e670d9057"
      },
      "execution_count": 2,
      "outputs": [
        {
          "output_type": "stream",
          "name": "stdout",
          "text": [
            "\u001b[?25l     \u001b[90m━━━━━━━━━━━━━━━━━━━━━━━━━━━━━━━━━━━━━━━━\u001b[0m \u001b[32m0.0/62.8 KB\u001b[0m \u001b[31m?\u001b[0m eta \u001b[36m-:--:--\u001b[0m\r\u001b[2K     \u001b[90m━━━━━━━━━━━━━━━━━━━━━━━━━━━━━━━━━━━━━━━━\u001b[0m \u001b[32m62.8/62.8 KB\u001b[0m \u001b[31m3.2 MB/s\u001b[0m eta \u001b[36m0:00:00\u001b[0m\n",
            "\u001b[?25h"
          ]
        }
      ]
    },
    {
      "cell_type": "code",
      "source": [
        "from gtts import gTTS as gs;\n",
        "\n",
        "tts = gs(\"hello\", lang = 'en');\n",
        "tts.save(\"hello.mp3\"); ## 파일생성, 저장\n",
        "print(tts)"
      ],
      "metadata": {
        "colab": {
          "base_uri": "https://localhost:8080/"
        },
        "id": "tnxANj7HE53A",
        "outputId": "04ff1680-8e4e-4c85-a9b1-07a7b849aab3"
      },
      "execution_count": 6,
      "outputs": [
        {
          "output_type": "stream",
          "name": "stdout",
          "text": [
            "<gtts.tts.gTTS object at 0x7fc6f7b3ce80>\n"
          ]
        }
      ]
    },
    {
      "cell_type": "code",
      "source": [
        "from IPython.display import Audio;\n",
        "\n",
        "audio = Audio(\"hello.mp3\");\n",
        "display(audio);"
      ],
      "metadata": {
        "colab": {
          "base_uri": "https://localhost:8080/",
          "height": 75
        },
        "id": "N2hc4WlnF31_",
        "outputId": "683e3362-5dc9-4f92-f0e4-dcefe5e7ef3d"
      },
      "execution_count": 7,
      "outputs": [
        {
          "output_type": "display_data",
          "data": {
            "text/plain": [
              "<IPython.lib.display.Audio object>"
            ],
            "text/html": [
              "\n",
              "                <audio  controls=\"controls\" >\n",
              "                    <source src=\"data:audio/mpeg;base64,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\" type=\"audio/mpeg\" />\n",
              "                    Your browser does not support the audio element.\n",
              "                </audio>\n",
              "              "
            ]
          },
          "metadata": {}
        }
      ]
    },
    {
      "cell_type": "code",
      "source": [
        "from gtts import gTTS as gs;\n",
        "from IPython.display import Audio;\n",
        "from random import choice;"
      ],
      "metadata": {
        "id": "R3AU--VuFm78"
      },
      "execution_count": null,
      "outputs": []
    }
  ]
}