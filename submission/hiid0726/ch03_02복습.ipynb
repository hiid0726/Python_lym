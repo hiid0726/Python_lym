{
  "nbformat": 4,
  "nbformat_minor": 0,
  "metadata": {
    "colab": {
      "provenance": [],
      "authorship_tag": "ABX9TyMzuKAHMqeLJ4P6ZjM/+/oN",
      "include_colab_link": true
    },
    "kernelspec": {
      "name": "python3",
      "display_name": "Python 3"
    },
    "language_info": {
      "name": "python"
    }
  },
  "cells": [
    {
      "cell_type": "markdown",
      "metadata": {
        "id": "view-in-github",
        "colab_type": "text"
      },
      "source": [
        "<a href=\"https://colab.research.google.com/github/hiid0726/Python_lym/blob/main/submission/hiid0726/ch03_02%EB%B3%B5%EC%8A%B5.ipynb\" target=\"_parent\"><img src=\"https://colab.research.google.com/assets/colab-badge.svg\" alt=\"Open In Colab\"/></a>"
      ]
    },
    {
      "cell_type": "code",
      "execution_count": 1,
      "metadata": {
        "id": "zAlrenxXjRGS"
      },
      "outputs": [],
      "source": [
        "class Teacher :\n",
        "  def __init__(self):\n",
        "    self.name = '이명직';\n",
        "    "
      ]
    },
    {
      "cell_type": "code",
      "source": [
        "lee = Teacher(); # 클래스() : 해당 클래스를 기반으로 하는 인스턴스(객체)를 생성해주겠다\n",
        "# 클래스 : 특정한 객체를 만들 수 있는 설계도\n",
        "# 인스턴스 : 클래스로 만들어진 객체\n",
        "# 객체 : 특정한 기능이나 값들의 묶음\n",
        "lee\n"
      ],
      "metadata": {
        "colab": {
          "base_uri": "https://localhost:8080/"
        },
        "id": "LtDW3bf-ljw5",
        "outputId": "d54fdcf1-7a13-4e8d-a39f-56f9a42ce902"
      },
      "execution_count": 4,
      "outputs": [
        {
          "output_type": "execute_result",
          "data": {
            "text/plain": [
              "<__main__.Teacher at 0x7f6142d7d400>"
            ]
          },
          "metadata": {},
          "execution_count": 4
        }
      ]
    },
    {
      "cell_type": "code",
      "source": [
        "lee.name"
      ],
      "metadata": {
        "colab": {
          "base_uri": "https://localhost:8080/",
          "height": 35
        },
        "id": "gM6IZfBDmC_w",
        "outputId": "9a3f3481-abd7-4dc4-b0a8-1161c71b2225"
      },
      "execution_count": 5,
      "outputs": [
        {
          "output_type": "execute_result",
          "data": {
            "text/plain": [
              "'이명직'"
            ],
            "application/vnd.google.colaboratory.intrinsic+json": {
              "type": "string"
            }
          },
          "metadata": {},
          "execution_count": 5
        }
      ]
    },
    {
      "cell_type": "code",
      "source": [
        "class Teacher :\n",
        "  def __init__(self):\n",
        "    self.name = '이명직';\n",
        "  \n",
        "  def lesson(self):\n",
        "    print(\"수업을 시작하겠습니다.\");"
      ],
      "metadata": {
        "id": "cD5B8pHBmFp7"
      },
      "execution_count": 6,
      "outputs": []
    },
    {
      "cell_type": "code",
      "source": [
        "lee = Teacher();\n",
        "lee.lesson();"
      ],
      "metadata": {
        "colab": {
          "base_uri": "https://localhost:8080/"
        },
        "id": "B9pkzaVvmitJ",
        "outputId": "4d1e4616-206c-4856-fb78-5cb60d18347e"
      },
      "execution_count": 7,
      "outputs": [
        {
          "output_type": "stream",
          "name": "stdout",
          "text": [
            "수업을 시작하겠습니다.\n"
          ]
        }
      ]
    },
    {
      "cell_type": "code",
      "source": [
        "class Teacher :\n",
        "  def __init__(self, name = '홍길동'):\n",
        "    self.name = name;\n",
        "  \n",
        "  def lesson(self, time, *args, comment = \"뭘 하면 좋을까여\", **kwargs):\n",
        "    print(f\"제 이름은 {self.name}입니다.\")\n",
        "    print(f\"오늘의 수업시간은 {time:.2f}시간 입니다.\")\n",
        "    print(f\"오늘의 수업 과목은\",end=\"\");\n",
        "    for i, v in enumerate(args) :\n",
        "      # enumerate = 각각의 요소를 라는 변수 이름으로 받겠다.\n",
        "      # v는 루프가 한 번 돌대마다 순서대로 새로운 요소 값을 받는다 \n",
        "      print(f\"{i} {v}\",end=\"\");\n",
        "\n",
        "    print(\"입니다.\");\n",
        "    print(\"수업을 시작하겠습니다.\");\n",
        "    print(comment)\n",
        "\n",
        "    for k, v in kwargs.items():\n",
        "      print(f\"{k}님이 질문 하셨네요!\");\n",
        "      print(f\"{v}에 대해서 답해드리겠습니다.\");\n",
        "      print(\"ㅎㅎ\");\n"
      ],
      "metadata": {
        "id": "aeP_JEUumoNT"
      },
      "execution_count": 30,
      "outputs": []
    },
    {
      "cell_type": "code",
      "source": [
        "import math;\n",
        "\n",
        "lee = Teacher('이영미');\n",
        "lee.lesson(math.pi, '파이썬','자바','C', comment=\"fdfdfdfd\", lee=\"파이썬\", hong=\"자바\");"
      ],
      "metadata": {
        "colab": {
          "base_uri": "https://localhost:8080/"
        },
        "id": "eeRbGe5unRuR",
        "outputId": "2c91eef3-510d-4689-96f3-6d454673144f"
      },
      "execution_count": 31,
      "outputs": [
        {
          "output_type": "stream",
          "name": "stdout",
          "text": [
            "제 이름은 이영미입니다.\n",
            "오늘의 수업시간은 3.14시간 입니다.\n",
            "오늘의 수업 과목은0 파이썬1 자바2 C입니다.\n",
            "수업을 시작하겠습니다.\n",
            "fdfdfdfd\n",
            "lee님이 질문 하셨네요!\n",
            "파이썬에 대해서 답해드리겠습니다.\n",
            "ㅎㅎ\n",
            "hong님이 질문 하셨네요!\n",
            "자바에 대해서 답해드리겠습니다.\n",
            "ㅎㅎ\n"
          ]
        }
      ]
    },
    {
      "cell_type": "code",
      "source": [
        "class store:\n",
        "  counter = 1; # 클래스에서 모두 공유하는 변수\n",
        "\n",
        "  def __init__(self):\n",
        "    print(f\"축하합니다! {self.counter}호점을 개점했습니다.\");\n",
        "    self.counter += 1;"
      ],
      "metadata": {
        "id": "JKl2YJ-4vhT9"
      },
      "execution_count": 32,
      "outputs": []
    },
    {
      "cell_type": "code",
      "source": [
        "s1 = store();\n",
        "s1.counter"
      ],
      "metadata": {
        "colab": {
          "base_uri": "https://localhost:8080/"
        },
        "id": "D5EwV0eqwLQl",
        "outputId": "d6aa424c-47d3-452b-fcfd-0b952d251bc2"
      },
      "execution_count": 33,
      "outputs": [
        {
          "output_type": "stream",
          "name": "stdout",
          "text": [
            "축하합니다! 1호점을 개점했습니다.\n"
          ]
        },
        {
          "output_type": "execute_result",
          "data": {
            "text/plain": [
              "2"
            ]
          },
          "metadata": {},
          "execution_count": 33
        }
      ]
    },
    {
      "cell_type": "code",
      "source": [
        "s2 = store();\n",
        "s2.counter"
      ],
      "metadata": {
        "colab": {
          "base_uri": "https://localhost:8080/"
        },
        "id": "blot9AtuwcVA",
        "outputId": "f2f1b587-3d0e-4671-a388-8800ee65b915"
      },
      "execution_count": 34,
      "outputs": [
        {
          "output_type": "stream",
          "name": "stdout",
          "text": [
            "축하합니다! 1호점을 개점했습니다.\n"
          ]
        },
        {
          "output_type": "execute_result",
          "data": {
            "text/plain": [
              "2"
            ]
          },
          "metadata": {},
          "execution_count": 34
        }
      ]
    },
    {
      "cell_type": "code",
      "source": [
        "## 클래스 -> 인스턴스 -> 개별 인스턴스 속성\n",
        "class Store:\n",
        "  counter = 1; # 클래스에서 모두 공유하는 변수\n",
        "\n",
        "  def __init__(self):\n",
        "    print(f\"축하합니다! {Store.counter}호점을 개점했습니다.\");\n",
        "    self.my_counter = Store.counter;\n",
        "    Store.counter += 1; # 클래스 전체의 counter를 증가시킨다. self.counter는 자신의 counter만 움직인다."
      ],
      "metadata": {
        "id": "A3cImDThwfAM"
      },
      "execution_count": 43,
      "outputs": []
    },
    {
      "cell_type": "code",
      "source": [
        "s1 = Store();\n",
        "s2 = Store();\n",
        "s1.counter\n",
        "s2.counter\n",
        "s1.my_counter\n",
        "s2.my_counter"
      ],
      "metadata": {
        "colab": {
          "base_uri": "https://localhost:8080/"
        },
        "id": "7kPjvR59xo6L",
        "outputId": "049a5ab5-cc6f-494b-95aa-9694c9b59ca5"
      },
      "execution_count": 44,
      "outputs": [
        {
          "output_type": "stream",
          "name": "stdout",
          "text": [
            "축하합니다! 1호점을 개점했습니다.\n",
            "축하합니다! 2호점을 개점했습니다.\n"
          ]
        },
        {
          "output_type": "execute_result",
          "data": {
            "text/plain": [
              "2"
            ]
          },
          "metadata": {},
          "execution_count": 44
        }
      ]
    },
    {
      "cell_type": "code",
      "source": [
        "class Pstore(Store): # store 클래스 상속\n",
        "  pass"
      ],
      "metadata": {
        "id": "-hIoJiYMx3ux"
      },
      "execution_count": 45,
      "outputs": []
    },
    {
      "cell_type": "code",
      "source": [
        "p1 = Pstore();\n",
        "p1.counter\n",
        "p1.my_counter"
      ],
      "metadata": {
        "colab": {
          "base_uri": "https://localhost:8080/"
        },
        "id": "RGiZcCBEyJlw",
        "outputId": "3a8065f5-b4ce-4a11-eae7-80ba24365706"
      },
      "execution_count": 46,
      "outputs": [
        {
          "output_type": "stream",
          "name": "stdout",
          "text": [
            "축하합니다! 3호점을 개점했습니다.\n"
          ]
        },
        {
          "output_type": "execute_result",
          "data": {
            "text/plain": [
              "3"
            ]
          },
          "metadata": {},
          "execution_count": 46
        }
      ]
    },
    {
      "cell_type": "code",
      "source": [
        "class Pstore(Store): # store 클래스 상속\n",
        "  def __init__(self, prize, visit_count) : ### 여기서 init해버리면 덮어씌어진다....\n",
        "  # (메소드 오버라이딩), 기존 상위에 있던 init메소드는 없어지고 새롭게 정의되는것.\n",
        "    print(f\"{visit_count}번재 손님에게 {prize}를 드립니다.\")\n"
      ],
      "metadata": {
        "id": "03H3YVGfyRMv"
      },
      "execution_count": 47,
      "outputs": []
    },
    {
      "cell_type": "code",
      "source": [
        "p1 = Pstore(\"아이폰\", 1000);\n",
        "p1.counter\n",
        "p1.my_counter"
      ],
      "metadata": {
        "colab": {
          "base_uri": "https://localhost:8080/",
          "height": 227
        },
        "id": "uHxJ0JHFygTO",
        "outputId": "62d9c842-e8fe-486b-bdaa-f8e7e1c8965e"
      },
      "execution_count": 49,
      "outputs": [
        {
          "output_type": "stream",
          "name": "stdout",
          "text": [
            "1000번재 손님에게 아이폰를 드립니다.\n"
          ]
        },
        {
          "output_type": "error",
          "ename": "AttributeError",
          "evalue": "ignored",
          "traceback": [
            "\u001b[0;31m---------------------------------------------------------------------------\u001b[0m",
            "\u001b[0;31mAttributeError\u001b[0m                            Traceback (most recent call last)",
            "\u001b[0;32m<ipython-input-49-34ff255d1015>\u001b[0m in \u001b[0;36m<module>\u001b[0;34m\u001b[0m\n\u001b[1;32m      1\u001b[0m \u001b[0mp1\u001b[0m \u001b[0;34m=\u001b[0m \u001b[0mPstore\u001b[0m\u001b[0;34m(\u001b[0m\u001b[0;34m\"아이폰\"\u001b[0m\u001b[0;34m,\u001b[0m \u001b[0;36m1000\u001b[0m\u001b[0;34m)\u001b[0m\u001b[0;34m;\u001b[0m\u001b[0;34m\u001b[0m\u001b[0;34m\u001b[0m\u001b[0m\n\u001b[1;32m      2\u001b[0m \u001b[0mp1\u001b[0m\u001b[0;34m.\u001b[0m\u001b[0mcounter\u001b[0m\u001b[0;34m\u001b[0m\u001b[0;34m\u001b[0m\u001b[0m\n\u001b[0;32m----> 3\u001b[0;31m \u001b[0mp1\u001b[0m\u001b[0;34m.\u001b[0m\u001b[0mmy_counter\u001b[0m\u001b[0;34m\u001b[0m\u001b[0;34m\u001b[0m\u001b[0m\n\u001b[0m",
            "\u001b[0;31mAttributeError\u001b[0m: 'Pstore' object has no attribute 'my_counter'"
          ]
        }
      ]
    },
    {
      "cell_type": "code",
      "source": [
        "class Pstore(Store): # store 클래스 상속\n",
        "  def __init__(self, prize, visit_count) : ### 여기서 init해버리면 덮어씌어진다....\n",
        "  # (메소드 오버라이딩), 기존 상위에 있던 init메소드는 없어지고 새롭게 정의되는것.\n",
        "    super().__init__() ## 상위 클래스의 init메소드를 불러온다.\n",
        "    print(f\"{visit_count}번재 손님에게 {prize}를 드립니다.\")\n"
      ],
      "metadata": {
        "id": "OoP3AiCDyyAw"
      },
      "execution_count": 50,
      "outputs": []
    },
    {
      "cell_type": "code",
      "source": [
        "p1 = Pstore(\"아이폰\", 1000);\n",
        "p1.counter\n",
        "p1.my_counter"
      ],
      "metadata": {
        "colab": {
          "base_uri": "https://localhost:8080/"
        },
        "id": "htmyYh4Qy-Sj",
        "outputId": "dd7d05fa-6e19-435a-85f4-c6452637852a"
      },
      "execution_count": 51,
      "outputs": [
        {
          "output_type": "stream",
          "name": "stdout",
          "text": [
            "축하합니다! 4호점을 개점했습니다.\n",
            "1000번재 손님에게 아이폰를 드립니다.\n"
          ]
        },
        {
          "output_type": "execute_result",
          "data": {
            "text/plain": [
              "4"
            ]
          },
          "metadata": {},
          "execution_count": 51
        }
      ]
    },
    {
      "cell_type": "code",
      "source": [
        "class Ypstore(Pstore) : # 상속관계 : Store -> Pstore -> Ypstore\n",
        "  def __init__(self, msg):\n",
        "    super(Pstore, self).__init__(); # 상위 클래스중 어떤 클래스에서 super 받아올것인지 지정해줘야함.\n",
        "    # super(자기자신, self).__init__(); --> 자기자신의 부모 클래스를 끌고온다.\n",
        "    print(f\"행운의 포춘쿠키 : {msg}\")"
      ],
      "metadata": {
        "id": "x8915z9gzCrw"
      },
      "execution_count": 75,
      "outputs": []
    },
    {
      "cell_type": "code",
      "source": [
        "yp1 = Ypstore(\"행복한 하루가 될것입니다.\");\n",
        "yp1.counter\n",
        "yp1.my_counter"
      ],
      "metadata": {
        "colab": {
          "base_uri": "https://localhost:8080/"
        },
        "id": "ARoDmbyBzcPE",
        "outputId": "be909dc1-e8ea-4c3f-bccf-51f2ac549584"
      },
      "execution_count": 76,
      "outputs": [
        {
          "output_type": "stream",
          "name": "stdout",
          "text": [
            "축하합니다! 5호점을 개점했습니다.\n",
            "행운의 포춘쿠키 : 행복한 하루가 될것입니다.\n"
          ]
        },
        {
          "output_type": "execute_result",
          "data": {
            "text/plain": [
              "5"
            ]
          },
          "metadata": {},
          "execution_count": 76
        }
      ]
    }
  ]
}